{
  "cells": [
    {
      "cell_type": "code",
      "metadata": {
        "collapsed": false,
        "scrolled": false
      },
      "source": [
        "update = False\n",
        "\n",
        "from os import path\n",
        "\n",
        "%cd /root\n",
        "!git clone https://github.com/comfyanonymous/ComfyUI.git\n",
        "%cd ComfyUI\n",
        "if update:\n",
        "    get_ipython().system('git pull')\n",
        "!pip install -r requirements.txt\n",
        "\n",
        "checkpoints =  '/root/ComfyUI/models/checkpoints'\n",
        "link_path = checkpoints + '/temp-models'\n",
        "temp_models = '/root/temp/temp-models'\n",
        "\n",
        "!mkdir /root/temp\n",
        "!mkdir $temp_models\n",
        "\n",
        "if not path.exists(link_path):\n",
        "    get_ipython().system(f'ln -s {temp_models} {checkpoints}')\n",
        "\n",
        "!mamba install openssh -y\n",
        "\n",
        "# Install the node manager\n",
        "update_manager = False\n",
        "%cd /root/ComfyUI/custom_nodes\n",
        "!git clone https://github.com/ltdrdata/ComfyUI-Manager.git\n",
        "%cd ComfyUI-Manager\n",
        "if update_manager:\n",
        "    get_ipython().system('git pull')\n",
        "!pip install -r requirements.txt"
      ],
      "execution_count": null,
      "outputs": []
    },
    {
      "cell_type": "markdown",
      "metadata": {},
      "source": [
        "# CheckPoint"
      ]
    },
    {
      "cell_type": "code",
      "metadata": {
        "collapsed": false,
        "scrolled": false
      },
      "source": [
        "# Install a model in permanent storage\n",
        "# Make sure Persistence is set to \"Files only\" or \"Variables and Files\"\n",
        "model_url = 'https://civitai.com/api/download/models/198530'\n",
        "model_name = 'JuggernautXL.safetensors'\n",
        "\n",
        "%cd $checkpoints\n",
        "#!wget -O 'model.safetensors' 'https://civitai.com/api/download/models/198530?type=Model&format=SafeTensor&size=full&fp=fp16'\n",
        "get_ipython().system(f'wget -O \"{model_name}\" \"{model_url}\"')"
      ],
      "execution_count": null,
      "outputs": []
    },
    {
      "cell_type": "markdown",
      "metadata": {},
      "source": [
        "# Lora"
      ]
    },
    {
      "cell_type": "code",
      "metadata": {
        "collapsed": false,
        "scrolled": false
      },
      "source": [
        "# Install a LoRA in permanent storage\n",
        "model_url = 'https://civitai.com/api/download/models/137124?type=Model&format=SafeTensor'\n",
        "model_name = 'DreamArt.safetensors'\n",
        "\n",
        "%cd /root/ComfyUI/models/loras\n",
        "#!wget -O 'model.safetensors' 'https://civitai.com/api/download/models/198530?type=Model&format=SafeTensor&size=full&fp=fp16'\n",
        "get_ipython().system(f'wget -O \"{model_name}\" \"{model_url}\"')"
      ],
      "execution_count": null,
      "outputs": []
    },
    {
      "cell_type": "markdown",
      "metadata": {},
      "source": [
        "# Launch with Pinggy"
      ]
    },
    {
      "cell_type": "code",
      "metadata": {
        "collapsed": false,
        "scrolled": false
      },
      "source": [
        "# Starting the Web UI with pinggy\n",
        "\n",
        "from multiprocessing import Process\n",
        "import sys\n",
        "import time\n",
        "\n",
        "!touch log.txt\n",
        "open('log.txt', 'w').close()\n",
        "\n",
        "def run_app():\n",
        "    cmd = f\"python /kaggle/working/ComfyUI/main.py & ssh -o StrictHostKeyChecking=no -p 80 -R0:localhost:8188 a.pinggy.io > log.txt\"\n",
        "    get_ipython().system(cmd)\n",
        "    \n",
        "def print_url():\n",
        "    print(\"waiting for output\")\n",
        "    time.sleep(2)\n",
        "    sys.stdout.flush()\n",
        "    \n",
        "    found = False\n",
        "    with open('log.txt', 'r') as file:\n",
        "        end_word = '.pinggy.link'\n",
        "        for line in file:\n",
        "            start_index = line.find(\"http:\")\n",
        "            if start_index != -1:\n",
        "                end_index = line.find(end_word, start_index)\n",
        "                if end_index != -1:\n",
        "                    print(\"\ud83d\ude01 \ud83d\ude01 \ud83d\ude01\")\n",
        "                    print(\"URL: \" + line[start_index:end_index + len(end_word)])\n",
        "                    print(\"\ud83d\ude01 \ud83d\ude01 \ud83d\ude01\")\n",
        "                    found = True\n",
        "    if not found:\n",
        "        print_url()\n",
        "    else:\n",
        "        with open('log.txt', 'r') as file:\n",
        "            for line in file:\n",
        "                print(line)\n",
        "    \n",
        "p_app = Process(target=run_app)\n",
        "p_url = Process(target=print_url)\n",
        "p_app.start()\n",
        "p_url.start()\n",
        "p_app.join()\n",
        "p_url.join()"
      ],
      "execution_count": null,
      "outputs": []
    }
  ],
  "metadata": {
    "kernelspec": {
      "display_name": "Python",
      "language": "python",
      "name": "python3"
    },
    "language_info": {
      "codemirror_mode": {
        "name": "ipython",
        "version": 3
      },
      "file_extension": ".py",
      "mimetype": "text/x-python",
      "name": "python",
      "nbconvert_exporter": "python",
      "pygments_lexer": "ipython3"
    }
  },
  "nbformat": 4,
  "nbformat_minor": 5
}
