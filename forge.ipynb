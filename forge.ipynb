{
  "cells": [
    {
      "cell_type": "markdown",
      "metadata": {},
      "source": [
        "# Clone Forge"
      ]
    },
    {
      "cell_type": "code",
      "metadata": {},
      "source": [
        "%cd /root\n",
        "!git clone https://github.com/lllyasviel/stable-diffusion-webui-forge.git"
      ],
      "execution_count": null,
      "outputs": []
    },
    {
      "cell_type": "markdown",
      "metadata": {},
      "source": [
        "# Install Requirements"
      ]
    },
    {
      "cell_type": "code",
      "metadata": {},
      "source": [
        "!pip install -r /root/stable-diffusion-webui-forge/requirements_versions.txt"
      ],
      "execution_count": null,
      "outputs": []
    },
    {
      "cell_type": "code",
      "metadata": {},
      "source": [
        "!apt-get update\n",
        "!apt-get install -y libjpeg-dev zlib1g-dev libpng-dev\n",
        "!pip install --no-cache-dir Pillow\n",
        "!apt-get install -y libgl1\n",
        "!apt-get install -y libglib2.0-0 libgl1\n"
      ],
      "execution_count": null,
      "outputs": []
    },
    {
      "cell_type": "code",
      "metadata": {},
      "source": [
        "import os\n",
        "from IPython import get_ipython\n",
        "\n",
        "models = [\n",
        "    ('https://huggingface.co/city96/FLUX.1-dev-gguf/resolve/main/flux1-dev-Q4_0.gguf', 'flux1-dev-Q4_0.gguf', '/root/stable-diffusion-webui-forge/models/Stable-diffusion'),\n",
        "\n",
        "    ('https://huggingface.co/comfyanonymous/flux_text_encoders/resolve/main/clip_l.safetensors', 'clip_l.safetensors', '/root/stable-diffusion-webui-forge/models/text_encoder'),\n",
        "    ('https://huggingface.co/comfyanonymous/flux_text_encoders/resolve/main/t5xxl_fp8_e4m3fn.safetensors', 't5xxl_fp8_e4m3fn.safetensors', '/root/stable-diffusion-webui-forge/models/text_encoder'),\n",
        "\n",
        "    ('https://huggingface.co/Muapi/cyberpunk-anime-style/resolve/main/cyberpunk-anime-style.safetensors', 'cyberpunk-anime-style.safetensors', '/root/stable-diffusion-webui-forge/models/Lora'),\n",
        "    ('https://huggingface.co/Muapi/daubrez-painterly-style/resolve/main/daubrez-painterly-style.safetensors', 'daubrez-painterly-style.safetensors', '/root/stable-diffusion-webui-forge/models/Lora'),\n",
        "    ('https://huggingface.co/Muapi/neurocore-anime-shadow-circuit-by-chronokight-flux-il/resolve/main/neurocore-anime-shadow-circuit-by-chronokight-flux-il.safetensors', 'neurocore-anime-shadow-circuit-by-chronokight-flux-il.safetensors', '/root/stable-diffusion-webui-forge/models/Lora'),\n",
        "    ('https://huggingface.co/Muapi/dreadmirth-style-art-flux/resolve/main/dreadmirth-style-art-flux.safetensors', 'dreadmirth-style-art-flux.safetensors', '/root/stable-diffusion-webui-forge/models/Lora'),\n",
        "    ('https://huggingface.co/zPabsy/dnsenti/resolve/main/dnsenti.safetensors', 'dnsenti.safetensors', '/root/stable-diffusion-webui-forge/models/Lora'),\n",
        "    ('https://huggingface.co/zPabsy/specback/resolve/main/specback.safetensors', 'specback.safetensors', '/root/stable-diffusion-webui-forge/models/Lora'),\n",
        "    ('https://huggingface.co/zPabsy/strokenaim2/resolve/main/strokenaim2.safetensors', 'strokenaim2.safetensors', '/root/stable-diffusion-webui-forge/models/Lora'),\n",
        "\n",
        "    ('https://huggingface.co/second-state/FLUX.1-dev-GGUF/resolve/main/ae.safetensors', 'ae.safetensors', '/root/stable-diffusion-webui-forge/models/VAE')\n",
        "]\n",
        "\n",
        "for url, name, directory in models:\n",
        "    os.makedirs(directory, exist_ok=True)\n",
        "    os.chdir(directory)\n",
        "    print(f\"Downloading {name} into {directory}...\")\n",
        "    get_ipython().system(f'wget -O \"{name}\" \"{url}\"')"
      ],
      "execution_count": null,
      "outputs": []
    },
    {
      "cell_type": "markdown",
      "metadata": {},
      "source": [
        "# Starting the Web UI with pinggy"
      ]
    },
    {
      "cell_type": "code",
      "metadata": {},
      "source": [
        "from multiprocessing import Process\n",
        "import sys\n",
        "import time\n",
        "from IPython import get_ipython\n",
        "\n",
        "!touch log.txt\n",
        "open('log.txt', 'w').close()\n",
        "\n",
        "def run_app():\n",
        "    cmd = f\"python /root/stable-diffusion-webui-forge/launch.py & ssh -o StrictHostKeyChecking=no -p 80 -R0:localhost:7860 a.pinggy.io > log.txt\"\n",
        "    get_ipython().system(cmd)\n",
        "\n",
        "def print_url():\n",
        "    print(\"waiting for output\")\n",
        "    time.sleep(2)\n",
        "    sys.stdout.flush()\n",
        "\n",
        "    found = False\n",
        "    with open('log.txt', 'r') as file:\n",
        "        end_word = '.pinggy.link'\n",
        "        for line in file:\n",
        "            start_index = line.find(\"http:\")\n",
        "            if start_index != -1:\n",
        "                end_index = line.find(end_word, start_index)\n",
        "                if end_index != -1:\n",
        "                    print(\"😁 😁 😁\")\n",
        "                    print(\"URL: \" + line[start_index:end_index + len(end_word)])\n",
        "                    print(\"😁 😁 😁\")\n",
        "                    found = True\n",
        "    if not found:\n",
        "        print_url()\n",
        "    else:\n",
        "        with open('log.txt', 'r') as file:\n",
        "            for line in file:\n",
        "                print(line)\n",
        "\n",
        "p_app = Process(target=run_app)\n",
        "p_url = Process(target=print_url)\n",
        "p_app.start()\n",
        "p_url.start()\n",
        "p_app.join()\n",
        "p_url.join()"
      ],
      "execution_count": null,
      "outputs": []
    }
  ],
  "metadata": {
    "kernelspec": {
      "display_name": "Python 3",
      "language": "python",
      "name": "python3"
    },
    "language_info": {
      "name": "python",
      "version": "3.10"
    }
  },
  "nbformat": 4,
  "nbformat_minor": 5
}
